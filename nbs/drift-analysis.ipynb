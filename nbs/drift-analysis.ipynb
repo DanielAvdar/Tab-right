{
 "cells": [
  {
   "cell_type": "markdown",
   "id": "988b390e",
   "metadata": {},
   "source": [
    "# Univariate Drift Analysis with tab-right\n",
    "This notebook demonstrates how to perform univariate drift analysis using the `tab-right` package.\n",
    "We use the UCI Adult dataset (census income) from OpenML, as in the classification example."
   ]
  },
  {
   "cell_type": "code",
   "execution_count": null,
   "id": "e2f010e2",
   "metadata": {},
   "outputs": [],
   "source": [
    "# Install dependencies if needed\n",
    "# !pip install pandas scikit-learn tab-right"
   ]
  },
  {
   "cell_type": "code",
   "execution_count": null,
   "id": "ff11e205",
   "metadata": {},
   "outputs": [],
   "source": [
    "from sklearn.datasets import fetch_openml\n",
    "\n",
    "from tab_right.drift.univariate import detect_univariate_drift_df\n",
    "from tab_right.plotting.plotly import plot_drift"
   ]
  },
  {
   "cell_type": "markdown",
   "id": "d26b36b2",
   "metadata": {},
   "source": [
    "## Load Example Dataset\n",
    "We'll use the UCI Adult dataset (census income) from OpenML."
   ]
  },
  {
   "cell_type": "code",
   "execution_count": null,
   "id": "f1bc6b2c",
   "metadata": {},
   "outputs": [],
   "source": [
    "data = fetch_openml(\"adult\", version=2, as_frame=True)\n",
    "df = data.frame.copy()\n",
    "df = df.sample(frac=1, random_state=42).reset_index(drop=True)  # Shuffle\n",
    "df = df.dropna()  # Drop missing for simplicity\n",
    "df[\"target\"] = (df[\"class\"] == \">50K\").astype(int)\n",
    "df = df.drop(columns=[\"class\"])\n",
    "df.head()"
   ]
  },
  {
   "cell_type": "markdown",
   "id": "1cfc6684",
   "metadata": {},
   "source": [
    "## Split Data: Reference vs. Current\n",
    "We'll simulate drift by splitting the data by time (first 70% as reference, last 30% as current)."
   ]
  },
  {
   "cell_type": "code",
   "execution_count": null,
   "id": "43fae52c",
   "metadata": {},
   "outputs": [],
   "source": [
    "split_idx = int(0.7 * len(df))\n",
    "df_ref = df.iloc[:split_idx].reset_index(drop=True)\n",
    "df_cur = df.iloc[split_idx:].reset_index(drop=True)\n",
    "print(f\"Reference: {df_ref.shape}, Current: {df_cur.shape}\")"
   ]
  },
  {
   "cell_type": "markdown",
   "id": "5fe9bccb",
   "metadata": {},
   "source": [
    "## Univariate Drift Analysis\n",
    "Let's compute drift for all features using the recommended metrics."
   ]
  },
  {
   "cell_type": "code",
   "execution_count": null,
   "id": "ba52b334",
   "metadata": {},
   "outputs": [],
   "source": [
    "drift_df = detect_univariate_drift_df(df_ref, df_cur)\n",
    "drift_df.sort_values(\"value\", ascending=False).head(10)\n",
    "\n",
    "# Plot drift values for all features\n",
    "fig = plot_drift(drift_df)\n",
    "fig.show()"
   ]
  },
  {
   "cell_type": "markdown",
   "id": "81c2a572",
   "metadata": {},
   "source": [
    "## Plot Drift for an Individual Feature\n",
    "Let's visualize the drift for a single feature using the plot_feature_drift function."
   ]
  },
  {
   "cell_type": "code",
   "execution_count": null,
   "id": "9383df90",
   "metadata": {},
   "outputs": [],
   "source": [
    "from tab_right.plotting.plotly import plot_feature_drift\n",
    "\n",
    "# Select a feature to visualize (e.g., 'age')\n",
    "feature = \"age\"\n",
    "fig = plot_feature_drift(df_ref[feature], df_cur[feature], feature_name=feature)\n",
    "fig.show()"
   ]
  }
 ],
 "metadata": {
  "kernelspec": {
   "display_name": "Python 3 (ipykernel)",
   "language": "python",
   "name": "python3"
  },
  "language_info": {
   "name": "python"
  }
 },
 "nbformat": 4,
 "nbformat_minor": 5
}
