{
 "cells": [
  {
   "cell_type": "markdown",
   "id": "36cd104d",
   "metadata": {},
   "source": [
    "# Double Segmentation Analysis Example\n",
    "This notebook demonstrates how to perform double segmentation analysis with interactive Plotly visualizations using the `tab-right` package, using dummy data."
   ]
  },
  {
   "cell_type": "code",
   "execution_count": null,
   "id": "50bbf652c039a65c",
   "metadata": {},
   "outputs": [],
   "source": [
    "# Install dependencies if running in Colab or a fresh environment\n",
    "# !pip install plotly pandas scikit-learn tab-right numpy"
   ]
  },
  {
   "cell_type": "code",
   "execution_count": null,
   "id": "7be18540",
   "metadata": {},
   "outputs": [],
   "source": [
    "%load_ext autoreload\n",
    "%autoreload 2"
   ]
  },
  {
   "cell_type": "code",
   "execution_count": null,
   "id": "82d9460d",
   "metadata": {},
   "outputs": [],
   "source": [
    "import numpy as np\n",
    "import plotly.io as pio\n",
    "from sklearn.datasets import fetch_openml\n",
    "from sklearn.metrics import mean_squared_error\n",
    "\n",
    "# Import required modules from tab_right\n",
    "from tab_right.plotting.plot_segmentations import DoubleSegmPlotting\n",
    "from tab_right.segmentations.double_seg import DoubleSegmentationImp\n",
    "\n",
    "pio.renderers.default = \"notebook\""
   ]
  },
  {
   "cell_type": "markdown",
   "id": "f859d1d3",
   "metadata": {},
   "source": [
    "## Load Example Dataset & Create Dummy Data\n",
    "We'll use the UCI Adult dataset for features and generate dummy target and prediction columns."
   ]
  },
  {
   "cell_type": "code",
   "execution_count": null,
   "id": "da8de75f",
   "metadata": {},
   "outputs": [],
   "source": [
    "data = fetch_openml(\"adult\", version=2, as_frame=True)\n",
    "df = data.frame.copy()\n",
    "df = df.sample(n=5000, random_state=42).reset_index(drop=True)  # Use a sample\n",
    "df = df.dropna()  # Drop missing for simplicity\n",
    "\n",
    "# Create dummy target and prediction columns\n",
    "np.random.seed(42)\n",
    "df[\"target\"] = np.random.randint(0, 2, size=len(df))\n",
    "df[\"prediction\"] = np.random.rand(len(df))  # Dummy probability prediction\n",
    "\n",
    "# Select relevant columns for analysis\n",
    "df_analysis = df[\n",
    "    [\"age\", \"education-num\", \"hours-per-week\", \"target\", \"prediction\"]\n",
    "].copy()  # Add more features if needed\n",
    "df_analysis.head()"
   ]
  },
  {
   "cell_type": "markdown",
   "id": "aa38932d",
   "metadata": {},
   "source": [
    "## Double Feature Segmentation\n",
    "Analyze how model performance varies across segments defined by pairs of features."
   ]
  },
  {
   "cell_type": "code",
   "execution_count": null,
   "id": "b020fec6eb0c3cda",
   "metadata": {},
   "outputs": [],
   "source": [
    "# Initialize double segmentation implementation with our dataset\n",
    "double_segmentation_imp = DoubleSegmentationImp(\n",
    "    df=df_analysis,\n",
    "    label_col=\"target\",\n",
    "    prediction_col=\"prediction\",  # Use the dummy prediction column\n",
    ")"
   ]
  },
  {
   "cell_type": "code",
   "execution_count": null,
   "id": "38940bc3",
   "metadata": {},
   "outputs": [],
   "source": [
    "# Define feature pairs to analyze\n",
    "feature_pairs = [(\"age\", \"education-num\"), (\"age\", \"hours-per-week\"), (\"education-num\", \"hours-per-week\")]\n",
    "\n",
    "# Analyze each feature pair and visualize\n",
    "for feature1, feature2 in feature_pairs:\n",
    "    # Calculate double segmentation scores using mean_squared_error\n",
    "    # The __call__ method takes feature1_col, feature2_col, score_metric, bins_1, bins_2\n",
    "    double_segments = double_segmentation_imp(\n",
    "        feature1_col=feature1,\n",
    "        feature2_col=feature2,\n",
    "        score_metric=mean_squared_error,  # Use a metric compatible with dummy data\n",
    "        bins_1=5,  # Define number of bins for numeric features\n",
    "        bins_2=5,\n",
    "    )\n",
    "\n",
    "    # Create double segmentation plotter using the correct column name 'score'\n",
    "    double_plotter = DoubleSegmPlotting(df=double_segments, metric_name=\"score\")  # Use 'score' as metric_name\n",
    "\n",
    "    # Plot the heatmap\n",
    "    heatmap_fig = double_plotter.plot_heatmap()\n",
    "    heatmap_fig.update_layout(\n",
    "        title=f\"MSE Heatmap: {feature1} vs {feature2}\", xaxis_title=feature1, yaxis_title=feature2\n",
    "    )\n",
    "    heatmap_fig.show()"
   ]
  },
  {
   "cell_type": "markdown",
   "id": "aeabcde6",
   "metadata": {},
   "source": [
    "## Conclusion\n",
    "This notebook demonstrated how to perform double segmentation analysis using the tab-right package. The heatmaps visualize how model performance (measured by MSE) varies across different segments defined by pairs of features."
   ]
  }
 ],
 "metadata": {
  "kernelspec": {
   "display_name": "Python 3 (ipykernel)",
   "language": "python",
   "name": "python3"
  },
  "language_info": {
   "codemirror_mode": {
    "name": "ipython",
    "version": 3
   },
   "file_extension": ".py",
   "mimetype": "text/x-python",
   "name": "python",
   "nbconvert_exporter": "python",
   "pygments_lexer": "ipython3"
  }
 },
 "nbformat": 4,
 "nbformat_minor": 5
}
