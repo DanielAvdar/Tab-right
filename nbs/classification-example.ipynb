{
 "cells": [
  {
   "cell_type": "markdown",
   "id": "36cd104d",
   "metadata": {},
   "source": [
    "# CatBoost Model: Drift & Segmentation Analysis\n",
    "This notebook demonstrates how to train a CatBoost model, analyze drift, and perform segmentation analysis with interactive Plotly visualizations using the `tab-right` package."
   ]
  },
  {
   "cell_type": "code",
   "execution_count": null,
   "id": "7be18540",
   "metadata": {},
   "outputs": [],
   "source": [
    "# Install dependencies if running in Colab or a fresh environment\n",
    "# !pip install catboost plotly pandas scikit-learn tab-right"
   ]
  },
  {
   "cell_type": "code",
   "execution_count": null,
   "id": "82d9460d",
   "metadata": {},
   "outputs": [],
   "source": [
    "import plotly.io as pio\n",
    "from catboost import CatBoostClassifier\n",
    "from sklearn.metrics import accuracy_score\n",
    "\n",
    "from tab_right.plotting import plot_segmentations\n",
    "from tab_right.segmentations.base import SegmentationStats\n",
    "\n",
    "pio.renderers.default = \"notebook\""
   ]
  },
  {
   "cell_type": "markdown",
   "id": "f859d1d3",
   "metadata": {},
   "source": [
    "## Load Example Dataset\n",
    "We'll use the UCI Adult dataset (census income) from OpenML."
   ]
  },
  {
   "cell_type": "code",
   "execution_count": null,
   "id": "da8de75f",
   "metadata": {},
   "outputs": [],
   "source": [
    "from sklearn.datasets import fetch_openml\n",
    "\n",
    "data = fetch_openml(\"adult\", version=2, as_frame=True)\n",
    "df = data.frame.copy()\n",
    "df = df.sample(frac=1, random_state=42).reset_index(drop=True)  # Shuffle\n",
    "df = df.dropna()  # Drop missing for simplicity\n",
    "df[\"target\"] = (df[\"class\"] == \">50K\").astype(int)\n",
    "df = df.drop(columns=[\"class\"])\n",
    "df.head()"
   ]
  },
  {
   "cell_type": "markdown",
   "id": "7da731ac",
   "metadata": {},
   "source": [
    "## Split Data: Reference vs. Current\n",
    "We'll simulate drift by splitting the data by time (first 70% as reference, last 30% as current)."
   ]
  },
  {
   "cell_type": "code",
   "execution_count": null,
   "id": "476604c2",
   "metadata": {},
   "outputs": [],
   "source": [
    "split_idx = int(0.7 * len(df))\n",
    "df_ref = df.iloc[:split_idx].reset_index(drop=True)\n",
    "df_cur = df.iloc[split_idx:].reset_index(drop=True)\n",
    "print(f\"Reference: {df_ref.shape}, Current: {df_cur.shape}\")"
   ]
  },
  {
   "cell_type": "markdown",
   "id": "1ebf81f2",
   "metadata": {},
   "source": [
    "## Train CatBoost Model\n",
    "We'll train on the reference data and predict on the current data."
   ]
  },
  {
   "cell_type": "code",
   "execution_count": null,
   "id": "f4ff9b36",
   "metadata": {},
   "outputs": [],
   "source": [
    "cat_features = df_ref.select_dtypes(include=\"category\").columns.tolist() + [\n",
    "    col for col in df_ref.columns if df_ref[col].dtype == \"object\"\n",
    "]\n",
    "cat_features = list(set(cat_features) - set([\"target\"]))\n",
    "X_ref = df_ref.drop(columns=[\"target\"])\n",
    "y_ref = df_ref[\"target\"]\n",
    "X_cur = df_cur.drop(columns=[\"target\"])\n",
    "y_cur = df_cur[\"target\"]\n",
    "model = CatBoostClassifier(cat_features=cat_features)\n",
    "model.fit(X_ref, y_ref)\n",
    "y_pred = model.predict(X_cur)\n",
    "print(\"Accuracy on current:\", accuracy_score(y_cur, y_pred))"
   ]
  },
  {
   "cell_type": "markdown",
   "id": "0e9d808e",
   "metadata": {},
   "source": [
    "## Segmentation Analysis\n",
    "Let's segment the predictions by a feature (e.g., 'education-num') and visualize the results."
   ]
  },
  {
   "cell_type": "code",
   "execution_count": null,
   "id": "573050a6",
   "metadata": {},
   "outputs": [],
   "source": [
    "seg_df = df_cur.copy()\n",
    "seg_df[\"pred\"] = y_pred\n",
    "seg = SegmentationStats(\n",
    "    seg_df, label_col=\"target\", pred_col=\"pred\", feature=\"education-num\", metric=accuracy_score, is_categorical=False\n",
    ")\n",
    "seg_result = seg.run(bins=8)\n",
    "seg_result"
   ]
  },
  {
   "cell_type": "markdown",
   "id": "67fcb4d8",
   "metadata": {},
   "source": [
    "### Plot Segmentation Results"
   ]
  },
  {
   "cell_type": "code",
   "execution_count": null,
   "id": "1d931a58",
   "metadata": {},
   "outputs": [],
   "source": [
    "fig = plot_segmentations(seg_result)\n",
    "fig.show()"
   ]
  }
 ],
 "metadata": {
  "kernelspec": {
   "display_name": "Python 3 (ipykernel)",
   "language": "python",
   "name": "python3"
  },
  "language_info": {
   "name": "python"
  }
 },
 "nbformat": 4,
 "nbformat_minor": 5
}
